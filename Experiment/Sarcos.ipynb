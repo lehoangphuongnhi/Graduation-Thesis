{
  "cells": [
    {
      "cell_type": "code",
      "execution_count": null,
      "metadata": {
        "colab": {
          "base_uri": "https://localhost:8080/"
        },
        "id": "_PsNRWJTe7Vg",
        "outputId": "e1ea0534-25aa-4158-a892-11cc544ecab5"
      },
      "outputs": [
        {
          "output_type": "stream",
          "name": "stdout",
          "text": [
            "Cloning into 'Thesis'...\n",
            "remote: Enumerating objects: 234, done.\u001b[K\n",
            "remote: Counting objects: 100% (53/53), done.\u001b[K\n",
            "remote: Compressing objects: 100% (42/42), done.\u001b[K\n",
            "remote: Total 234 (delta 22), reused 18 (delta 7), pack-reused 181\u001b[K\n",
            "Receiving objects: 100% (234/234), 11.15 MiB | 15.99 MiB/s, done.\n",
            "Resolving deltas: 100% (118/118), done.\n"
          ]
        }
      ],
      "source": [
        "!git clone https://github.com/lehoangphuongnhi/Thesis.git"
      ]
    },
    {
      "cell_type": "code",
      "execution_count": null,
      "metadata": {
        "colab": {
          "base_uri": "https://localhost:8080/"
        },
        "id": "gTAItL_rfAJj",
        "outputId": "5a4cd9b6-3fc5-41ea-fe60-00f869683759"
      },
      "outputs": [
        {
          "output_type": "stream",
          "name": "stdout",
          "text": [
            "/content/Thesis\n"
          ]
        }
      ],
      "source": [
        "cd Thesis"
      ]
    },
    {
      "cell_type": "markdown",
      "metadata": {
        "id": "zYa9H9w-piOG"
      },
      "source": [
        ""
      ]
    },
    {
      "cell_type": "code",
      "execution_count": null,
      "metadata": {
        "colab": {
          "base_uri": "https://localhost:8080/"
        },
        "id": "ndg-b4YufHSt",
        "outputId": "b7d60110-88ed-4821-f8b8-081cac9a5645"
      },
      "outputs": [
        {
          "output_type": "stream",
          "name": "stdout",
          "text": [
            "make: *** No rule to make target 'start-gpu'.  Stop.\n",
            "Looking in indexes: https://pypi.org/simple, https://us-python.pkg.dev/colab-wheels/public/simple/\n",
            "Collecting wget\n",
            "  Downloading wget-3.2.zip (10 kB)\n",
            "Building wheels for collected packages: wget\n",
            "  Building wheel for wget (setup.py) ... \u001b[?25l\u001b[?25hdone\n",
            "  Created wheel for wget: filename=wget-3.2-py3-none-any.whl size=9675 sha256=0b7c2dce830c7025cb29fc5053182e40305e412497fc9cb9fa96342befb9092f\n",
            "  Stored in directory: /root/.cache/pip/wheels/a1/b6/7c/0e63e34eb06634181c63adacca38b79ff8f35c37e3c13e3c02\n",
            "Successfully built wget\n",
            "Installing collected packages: wget\n",
            "Successfully installed wget-3.2\n"
          ]
        }
      ],
      "source": [
        "!make start-gpu\n",
        "!pip install wget"
      ]
    },
    {
      "cell_type": "code",
      "execution_count": null,
      "metadata": {
        "id": "AL5lR3MCgoQ5"
      },
      "outputs": [],
      "source": [
        "\n",
        "from Code.tab_model import TabNetRegressor\n",
        "\n",
        "import torch\n",
        "from sklearn.preprocessing import LabelEncoder\n",
        "from sklearn.metrics import mean_squared_error\n",
        "\n",
        "import pandas as pd\n",
        "import numpy as np\n",
        "np.random.seed(0)\n",
        "\n",
        "\n",
        "import os\n",
        "import wget\n",
        "from pathlib import Path\n",
        "\n",
        "from matplotlib import pyplot as plt\n",
        "%matplotlib inline\n",
        "\n",
        "%load_ext autoreload\n",
        "\n",
        "%autoreload 2"
      ]
    },
    {
      "cell_type": "markdown",
      "metadata": {
        "id": "7Pml1kAkfLEc"
      },
      "source": [
        "# Download Sarcos dataset"
      ]
    },
    {
      "cell_type": "code",
      "execution_count": null,
      "metadata": {
        "id": "VKxRfCtyoeh3"
      },
      "outputs": [],
      "source": [
        "import numpy as np\n",
        "from scipy.io import loadmat\n",
        "\n",
        "data = loadmat('/content/Thesis/sarcos_inv.mat')['sarcos_inv'].astype(np.float32)\n",
        "val_data, train_data = data[:4500], data[4500:].astype(np.float32)\n",
        "test_data = loadmat('/content/Thesis/sarcos_inv_test.mat')['sarcos_inv_test'].astype(np.float32)\n",
        "\n",
        "# train_data = pd.DataFrame(train_data)\n",
        "# val_data = pd.DataFrame(val_data)\n",
        "# test_data = pd.DataFrame(test_data)\n",
        "\n",
        "\n",
        "# X_train, Y_train = train_data[np.array(range(21))], train_data[np.array(range(21, 28))]\n",
        "\n",
        "X_train, y_train = train_data[:, :21], train_data[:, 21:]\n",
        "X_valid, y_valid = val_data[:, :21], val_data[:, 21:]\n",
        "X_test, y_test = test_data[:, :21], test_data[:, 21:]"
      ]
    },
    {
      "cell_type": "markdown",
      "metadata": {
        "id": "z-MRRjmehKZx"
      },
      "source": [
        "#TabNet-M"
      ]
    },
    {
      "cell_type": "code",
      "execution_count": null,
      "metadata": {
        "colab": {
          "base_uri": "https://localhost:8080/"
        },
        "id": "KE1CviDKSMW_",
        "outputId": "68dd92c1-e35d-40be-f409-12248f2f630a"
      },
      "outputs": [
        {
          "output_type": "stream",
          "name": "stderr",
          "text": [
            "/content/Thesis/Code/abstract_model.py:74: UserWarning: Device used : cuda\n",
            "  warnings.warn(f\"Device used : {self.device}\")\n"
          ]
        }
      ],
      "source": [
        "clf = TabNetRegressor(n_d=128, n_a=128, n_steps=5,\n",
        "    gamma=1.5, n_ind=2, n_shared=2,\n",
        "    cat_idxs=[],\n",
        "    cat_dims=[],\n",
        "    cat_emb_dim=[],\n",
        "    lambda_sparse=1e-4, momentum=0.8,\n",
        "    optimizer_fn=torch.optim.Adam,\n",
        "    optimizer_params=dict(lr=2e-2),\n",
        "    scheduler_params = {\"gamma\": 0.9,\n",
        "                     \"step_size\": 400},\n",
        "    scheduler_fn=torch.optim.lr_scheduler.StepLR, epsilon=1e-15\n",
        "    )"
      ]
    },
    {
      "cell_type": "code",
      "execution_count": null,
      "metadata": {
        "id": "L1uqgwx6oK5R"
      },
      "outputs": [],
      "source": [
        "max_epochs = 70 if not os.getenv(\"CI\", False) else 2"
      ]
    },
    {
      "cell_type": "code",
      "execution_count": null,
      "metadata": {
        "colab": {
          "base_uri": "https://localhost:8080/"
        },
        "id": "lhhheE2YoNPP",
        "outputId": "05123f69-a36e-4c14-c06a-5614f7cfac46"
      },
      "outputs": [
        {
          "output_type": "stream",
          "name": "stdout",
          "text": [
            "epoch 0  | loss: 121.71628| train_mse: 346.4646301269531| test_mse: 565.5200805664062|  0:00:02s\n",
            "epoch 1  | loss: 45.63015| train_mse: 257.32391357421875| test_mse: 294.8886413574219|  0:00:04s\n",
            "epoch 2  | loss: 34.61805| train_mse: 158.77931213378906| test_mse: 191.00465393066406|  0:00:07s\n",
            "epoch 3  | loss: 29.28643| train_mse: 135.52378845214844| test_mse: 107.87168884277344|  0:00:09s\n",
            "epoch 4  | loss: 24.1054 | train_mse: 89.42732238769531| test_mse: 75.67417907714844|  0:00:11s\n",
            "epoch 5  | loss: 19.80243| train_mse: 77.98905181884766| test_mse: 74.47576904296875|  0:00:13s\n",
            "epoch 6  | loss: 18.22598| train_mse: 45.96253967285156| test_mse: 56.869319915771484|  0:00:16s\n",
            "epoch 7  | loss: 16.27129| train_mse: 47.90652847290039| test_mse: 59.857120513916016|  0:00:18s\n",
            "epoch 8  | loss: 14.9827 | train_mse: 41.19990158081055| test_mse: 48.49473190307617|  0:00:21s\n",
            "epoch 9  | loss: 14.03495| train_mse: 42.08351135253906| test_mse: 55.47806930541992|  0:00:23s\n",
            "epoch 10 | loss: 12.37026| train_mse: 34.99209976196289| test_mse: 47.206058502197266|  0:00:25s\n",
            "epoch 11 | loss: 11.28705| train_mse: 23.359819412231445| test_mse: 31.36161994934082|  0:00:28s\n",
            "epoch 12 | loss: 11.3933 | train_mse: 21.540180206298828| test_mse: 34.87310028076172|  0:00:30s\n",
            "epoch 13 | loss: 11.45438| train_mse: 22.33683967590332| test_mse: 26.704540252685547|  0:00:32s\n",
            "epoch 14 | loss: 10.61933| train_mse: 24.110260009765625| test_mse: 31.83955955505371|  0:00:35s\n",
            "epoch 15 | loss: 10.365  | train_mse: 25.94668960571289| test_mse: 35.560020446777344|  0:00:37s\n",
            "epoch 16 | loss: 10.70262| train_mse: 27.734390258789062| test_mse: 40.54771041870117|  0:00:39s\n",
            "epoch 17 | loss: 10.15727| train_mse: 19.508150100708008| test_mse: 27.049659729003906|  0:00:41s\n",
            "epoch 18 | loss: 9.71979 | train_mse: 21.570390701293945| test_mse: 32.728389739990234|  0:00:43s\n",
            "epoch 19 | loss: 10.36515| train_mse: 18.08112907409668| test_mse: 23.31756019592285|  0:00:46s\n",
            "epoch 20 | loss: 9.8004  | train_mse: 16.164630889892578| test_mse: 23.70056915283203|  0:00:48s\n",
            "epoch 21 | loss: 10.98229| train_mse: 18.425949096679688| test_mse: 24.85024070739746|  0:00:50s\n",
            "epoch 22 | loss: 10.73977| train_mse: 13.43140983581543| test_mse: 19.367219924926758|  0:00:53s\n",
            "epoch 23 | loss: 10.81408| train_mse: 17.64763069152832| test_mse: 24.192140579223633|  0:00:55s\n",
            "epoch 24 | loss: 11.81606| train_mse: 14.600469589233398| test_mse: 20.41851043701172|  0:00:57s\n",
            "epoch 25 | loss: 10.6315 | train_mse: 14.467329978942871| test_mse: 21.635419845581055|  0:00:59s\n",
            "epoch 26 | loss: 9.65735 | train_mse: 14.209019660949707| test_mse: 20.246870040893555|  0:01:02s\n",
            "epoch 27 | loss: 8.92657 | train_mse: 12.451310157775879| test_mse: 18.525789260864258|  0:01:04s\n",
            "epoch 28 | loss: 8.69058 | train_mse: 13.533510208129883| test_mse: 17.824369430541992|  0:01:06s\n",
            "epoch 29 | loss: 8.85557 | train_mse: 12.410900115966797| test_mse: 17.349870681762695|  0:01:09s\n",
            "epoch 30 | loss: 8.10114 | train_mse: 10.303850173950195| test_mse: 18.23843002319336|  0:01:11s\n",
            "epoch 31 | loss: 7.93092 | train_mse: 9.017629623413086| test_mse: 18.162370681762695|  0:01:13s\n",
            "epoch 32 | loss: 7.69924 | train_mse: 10.054360389709473| test_mse: 17.733579635620117|  0:01:16s\n",
            "epoch 33 | loss: 7.63347 | train_mse: 9.482720375061035| test_mse: 17.991640090942383|  0:01:18s\n",
            "epoch 34 | loss: 7.39922 | train_mse: 8.848649978637695| test_mse: 15.4585599899292|  0:01:20s\n",
            "epoch 35 | loss: 7.12682 | train_mse: 9.612899780273438| test_mse: 18.8959903717041|  0:01:22s\n",
            "epoch 36 | loss: 7.30495 | train_mse: 7.788070201873779| test_mse: 17.053730010986328|  0:01:25s\n",
            "epoch 37 | loss: 7.06931 | train_mse: 8.742790222167969| test_mse: 18.331439971923828|  0:01:27s\n",
            "epoch 38 | loss: 7.99664 | train_mse: 9.470890045166016| test_mse: 16.70323944091797|  0:01:29s\n",
            "epoch 39 | loss: 8.67405 | train_mse: 13.791339874267578| test_mse: 17.819429397583008|  0:01:31s\n",
            "epoch 40 | loss: 7.38122 | train_mse: 6.641520023345947| test_mse: 14.628310203552246|  0:01:34s\n",
            "epoch 41 | loss: 7.03567 | train_mse: 9.396149635314941| test_mse: 16.99534034729004|  0:01:36s\n",
            "epoch 42 | loss: 7.36603 | train_mse: 7.4046502113342285| test_mse: 17.924680709838867|  0:01:38s\n",
            "epoch 43 | loss: 7.34881 | train_mse: 9.959380149841309| test_mse: 20.069860458374023|  0:01:41s\n",
            "epoch 44 | loss: 6.94508 | train_mse: 8.182060241699219| test_mse: 16.66514015197754|  0:01:43s\n",
            "epoch 45 | loss: 7.64385 | train_mse: 8.522729873657227| test_mse: 17.63521957397461|  0:01:45s\n",
            "epoch 46 | loss: 7.9073  | train_mse: 6.601399898529053| test_mse: 17.101470947265625|  0:01:48s\n",
            "epoch 47 | loss: 7.75269 | train_mse: 7.407390117645264| test_mse: 15.30463981628418|  0:01:50s\n",
            "epoch 48 | loss: 7.59612 | train_mse: 8.653200149536133| test_mse: 15.876810073852539|  0:01:52s\n",
            "epoch 49 | loss: 7.12273 | train_mse: 7.758339881896973| test_mse: 16.121639251708984|  0:01:54s\n",
            "epoch 50 | loss: 7.20322 | train_mse: 7.629610061645508| test_mse: 14.962739944458008|  0:01:57s\n",
            "epoch 51 | loss: 7.27325 | train_mse: 5.874859809875488| test_mse: 13.44159984588623|  0:01:59s\n",
            "epoch 52 | loss: 6.91156 | train_mse: 5.597970008850098| test_mse: 13.760519981384277|  0:02:01s\n",
            "epoch 53 | loss: 6.81947 | train_mse: 8.169249534606934| test_mse: 15.62539005279541|  0:02:04s\n",
            "epoch 54 | loss: 6.88284 | train_mse: 5.889110088348389| test_mse: 13.973919868469238|  0:02:06s\n",
            "epoch 55 | loss: 6.1617  | train_mse: 5.279369831085205| test_mse: 12.771120071411133|  0:02:08s\n",
            "epoch 56 | loss: 5.76145 | train_mse: 5.153180122375488| test_mse: 13.433099746704102|  0:02:11s\n",
            "epoch 57 | loss: 5.83035 | train_mse: 5.828700065612793| test_mse: 13.796489715576172|  0:02:13s\n",
            "epoch 58 | loss: 6.29534 | train_mse: 6.246379852294922| test_mse: 13.7193603515625|  0:02:16s\n",
            "epoch 59 | loss: 6.07418 | train_mse: 4.8651299476623535| test_mse: 12.934709548950195|  0:02:18s\n",
            "epoch 60 | loss: 5.67347 | train_mse: 6.742269992828369| test_mse: 13.478039741516113|  0:02:20s\n",
            "epoch 61 | loss: 5.5959  | train_mse: 5.615330219268799| test_mse: 13.789290428161621|  0:02:22s\n",
            "epoch 62 | loss: 5.95066 | train_mse: 6.129680156707764| test_mse: 14.710650444030762|  0:02:25s\n",
            "epoch 63 | loss: 5.57263 | train_mse: 4.467350006103516| test_mse: 12.630780220031738|  0:02:27s\n",
            "epoch 64 | loss: 5.38932 | train_mse: 6.609499931335449| test_mse: 14.628689765930176|  0:02:29s\n",
            "epoch 65 | loss: 7.08524 | train_mse: 9.224370002746582| test_mse: 16.054119110107422|  0:02:31s\n",
            "epoch 66 | loss: 8.127   | train_mse: 5.5507001876831055| test_mse: 13.875980377197266|  0:02:34s\n",
            "epoch 67 | loss: 6.02235 | train_mse: 6.428579807281494| test_mse: 15.271679878234863|  0:02:36s\n",
            "epoch 68 | loss: 5.91277 | train_mse: 6.1785101890563965| test_mse: 13.84867000579834|  0:02:38s\n",
            "epoch 69 | loss: 6.16059 | train_mse: 4.373199939727783| test_mse: 11.212900161743164|  0:02:41s\n",
            "Stop training because you reached max_epochs = 70 with best_epoch = 69 and best_test_mse = 11.212900161743164\n"
          ]
        },
        {
          "output_type": "stream",
          "name": "stderr",
          "text": [
            "/content/Thesis/Code/callbacks.py:155: UserWarning: Best weights from best epoch are automatically used!\n",
            "  warnings.warn(wrn_msg)\n"
          ]
        }
      ],
      "source": [
        "clf.fit(\n",
        "    X_train=X_train, y_train=y_train,\n",
        "    eval_set=[(X_train, y_train), (X_valid, y_valid)],\n",
        "    eval_name=['train', 'test'],\n",
        "    eval_metric=['mse'],\n",
        "    max_epochs=max_epochs,\n",
        "    patience= 500,\n",
        "    batch_size=4096, vbs=128,\n",
        "    num_workers=0,\n",
        "    drop_last=False\n",
        ") "
      ]
    },
    {
      "cell_type": "markdown",
      "metadata": {
        "id": "tfKt2xgSlMXc"
      },
      "source": [
        "#Predict"
      ]
    },
    {
      "cell_type": "code",
      "source": [
        "preds = clf.predict(X_valid)\n",
        "\n",
        "test_mse = mean_squared_error(y_pred=preds, y_true=y_valid)\n",
        "\n",
        "print(f\"BEST VALID SCORE FOR Sarcos : {clf.best_cost}\")\n",
        "print(f\"FINAL TEST SCORE FOR Sarcos : {test_mse}\")"
      ],
      "metadata": {
        "id": "SJWGNkQ9lkB4",
        "colab": {
          "base_uri": "https://localhost:8080/"
        },
        "outputId": "5de6b8b6-3e1b-463e-ae24-094de1f36f50"
      },
      "execution_count": null,
      "outputs": [
        {
          "output_type": "stream",
          "name": "stdout",
          "text": [
            "BEST VALID SCORE FOR Sarcos : 11.212898254394531\n",
            "FINAL TEST SCORE FOR Sarcos : 11.212898254394531\n"
          ]
        }
      ]
    },
    {
      "cell_type": "markdown",
      "metadata": {
        "id": "GXWpiBR-l5WN"
      },
      "source": [
        "#Global explainability : feat importance summing to 1\n"
      ]
    },
    {
      "cell_type": "code",
      "execution_count": null,
      "metadata": {
        "colab": {
          "base_uri": "https://localhost:8080/"
        },
        "id": "cai2eXq2l6j7",
        "outputId": "03503f42-2b49-4a5c-e6dd-0f9a42be90ff"
      },
      "outputs": [
        {
          "output_type": "execute_result",
          "data": {
            "text/plain": [
              "array([8.13327352e-02, 6.91418492e-02, 3.93090279e-02, 8.03246705e-03,\n",
              "       7.81189485e-02, 6.13506098e-03, 7.60987719e-03, 1.45107255e-02,\n",
              "       3.15075269e-02, 2.17905552e-05, 1.89995829e-03, 2.67447919e-02,\n",
              "       2.96094641e-03, 3.47746741e-02, 2.73076290e-01, 1.08202251e-01,\n",
              "       5.88247536e-02, 9.74337979e-02, 2.23378814e-02, 2.86905022e-03,\n",
              "       3.51555972e-02])"
            ]
          },
          "metadata": {},
          "execution_count": 10
        }
      ],
      "source": [
        "clf.feature_importances_\n"
      ]
    },
    {
      "cell_type": "markdown",
      "metadata": {
        "id": "2iua_f7Ll9XG"
      },
      "source": [
        "#Local explainability and masks\n"
      ]
    },
    {
      "cell_type": "code",
      "execution_count": null,
      "metadata": {
        "id": "OzoY_KM_l_YU"
      },
      "outputs": [],
      "source": [
        "explain_matrix, masks = clf.explain(X_valid)\n"
      ]
    },
    {
      "cell_type": "code",
      "execution_count": null,
      "metadata": {
        "id": "WdjcLVXsmGQK"
      },
      "outputs": [],
      "source": [
        "from matplotlib import pyplot as plt\n",
        "%matplotlib inline"
      ]
    },
    {
      "cell_type": "code",
      "execution_count": null,
      "metadata": {
        "colab": {
          "base_uri": "https://localhost:8080/",
          "height": 845
        },
        "id": "htlMWv7vmKuI",
        "outputId": "d0038c88-243f-4be5-ff57-6bc3f0ee5393"
      },
      "outputs": [
        {
          "output_type": "display_data",
          "data": {
            "text/plain": [
              "<Figure size 1440x1440 with 3 Axes>"
            ],
            "image/png": "[encoded data removed]"
          },
          "metadata": {
            "needs_background": "light"
          }
        }
      ],
      "source": [
        "fig, axs = plt.subplots(1, 3, figsize=(20,20))\n",
        "\n",
        "for i in range(3):\n",
        "    axs[i].imshow(masks[i][:50])\n",
        "    axs[i].set_title(f\"mask {i}\")"
      ]
    },
    {
      "cell_type": "markdown",
      "source": [
        "#XGboost"
      ],
      "metadata": {
        "id": "3yeQcEJcMpzX"
      }
    },
    {
      "cell_type": "code",
      "source": [
        "!pip uninstall xgboost"
      ],
      "metadata": {
        "colab": {
          "base_uri": "https://localhost:8080/"
        },
        "id": "4I5lk54-T3kT",
        "outputId": "3baa42dd-8932-4bba-eecf-850b51a739ce"
      },
      "execution_count": null,
      "outputs": [
        {
          "output_type": "stream",
          "name": "stdout",
          "text": [
            "Found existing installation: xgboost 0.90\n",
            "Uninstalling xgboost-0.90:\n",
            "  Would remove:\n",
            "    /usr/local/lib/python3.7/dist-packages/xgboost-0.90.dist-info/*\n",
            "    /usr/local/lib/python3.7/dist-packages/xgboost/*\n",
            "    /usr/local/xgboost/libxgboost.so\n",
            "Proceed (y/n)? y\n",
            "  Successfully uninstalled xgboost-0.90\n"
          ]
        }
      ]
    },
    {
      "cell_type": "code",
      "source": [
        "!pip install xgboost==1.6.1"
      ],
      "metadata": {
        "colab": {
          "base_uri": "https://localhost:8080/",
          "height": 251
        },
        "id": "mYYK0LHyPqUQ",
        "outputId": "27387274-e54d-417d-c855-e3961b5eb890"
      },
      "execution_count": null,
      "outputs": [
        {
          "output_type": "stream",
          "name": "stdout",
          "text": [
            "Looking in indexes: https://pypi.org/simple, https://us-python.pkg.dev/colab-wheels/public/simple/\n",
            "Collecting xgboost==1.6.1\n",
            "  Downloading xgboost-1.6.1-py3-none-manylinux2014_x86_64.whl (192.9 MB)\n",
            "\u001b[K     |████████████████████████████████| 192.9 MB 26 kB/s \n",
            "\u001b[?25hRequirement already satisfied: numpy in /usr/local/lib/python3.7/dist-packages (from xgboost==1.6.1) (1.21.6)\n",
            "Requirement already satisfied: scipy in /usr/local/lib/python3.7/dist-packages (from xgboost==1.6.1) (1.4.1)\n",
            "Installing collected packages: xgboost\n",
            "Successfully installed xgboost-1.6.1\n"
          ]
        },
        {
          "output_type": "display_data",
          "data": {
            "application/vnd.colab-display-data+json": {
              "pip_warning": {
                "packages": [
                  "xgboost"
                ]
              }
            }
          },
          "metadata": {}
        }
      ]
    },
    {
      "cell_type": "code",
      "source": [
        "from xgboost import XGBRegressor\n",
        "model = XGBRegressor(n_estimators = 200, max_depth = 5, objective = 'reg:squarederror')"
      ],
      "metadata": {
        "id": "AGmvoUtqSsyz"
      },
      "execution_count": null,
      "outputs": []
    },
    {
      "cell_type": "code",
      "source": [
        "model.fit(\n",
        "    X_train, y_train,\n",
        "    eval_set=[(X_train, y_train), (X_valid, y_valid)],\n",
        "    eval_metric = 'rmse'\n",
        ")"
      ],
      "metadata": {
        "colab": {
          "base_uri": "https://localhost:8080/"
        },
        "id": "5ebQ6sOgTAtm",
        "outputId": "064279ce-d8bc-4dc4-d215-8e439fc8d37a"
      },
      "execution_count": null,
      "outputs": [
        {
          "output_type": "stream",
          "name": "stderr",
          "text": [
            "/usr/local/lib/python3.7/dist-packages/xgboost/sklearn.py:797: UserWarning: `eval_metric` in `fit` method is deprecated for better compatibility with scikit-learn, use `eval_metric` in constructor or`set_params` instead.\n",
            "  UserWarning,\n"
          ]
        },
        {
          "output_type": "stream",
          "name": "stdout",
          "text": [
            "[0]\tvalidation_0-rmse:13.95809\tvalidation_1-rmse:14.40124\n",
            "[1]\tvalidation_0-rmse:10.29839\tvalidation_1-rmse:10.90345\n",
            "[2]\tvalidation_0-rmse:7.78019\tvalidation_1-rmse:8.55102\n",
            "[3]\tvalidation_0-rmse:6.06862\tvalidation_1-rmse:7.02175\n",
            "[4]\tvalidation_0-rmse:4.90289\tvalidation_1-rmse:6.03014\n",
            "[5]\tvalidation_0-rmse:4.14869\tvalidation_1-rmse:5.39864\n",
            "[6]\tvalidation_0-rmse:3.63002\tvalidation_1-rmse:5.02948\n",
            "[7]\tvalidation_0-rmse:3.28562\tvalidation_1-rmse:4.76563\n",
            "[8]\tvalidation_0-rmse:3.04761\tvalidation_1-rmse:4.63664\n",
            "[9]\tvalidation_0-rmse:2.86711\tvalidation_1-rmse:4.45730\n",
            "[10]\tvalidation_0-rmse:2.74055\tvalidation_1-rmse:4.38113\n",
            "[11]\tvalidation_0-rmse:2.65525\tvalidation_1-rmse:4.31730\n",
            "[12]\tvalidation_0-rmse:2.56318\tvalidation_1-rmse:4.27585\n",
            "[13]\tvalidation_0-rmse:2.49760\tvalidation_1-rmse:4.20716\n",
            "[14]\tvalidation_0-rmse:2.44060\tvalidation_1-rmse:4.16856\n",
            "[15]\tvalidation_0-rmse:2.39129\tvalidation_1-rmse:4.14287\n",
            "[16]\tvalidation_0-rmse:2.34154\tvalidation_1-rmse:4.10567\n",
            "[17]\tvalidation_0-rmse:2.29780\tvalidation_1-rmse:4.07314\n",
            "[18]\tvalidation_0-rmse:2.25797\tvalidation_1-rmse:4.04379\n",
            "[19]\tvalidation_0-rmse:2.22394\tvalidation_1-rmse:4.02235\n",
            "[20]\tvalidation_0-rmse:2.19523\tvalidation_1-rmse:4.00167\n",
            "[21]\tvalidation_0-rmse:2.16617\tvalidation_1-rmse:3.98154\n",
            "[22]\tvalidation_0-rmse:2.13325\tvalidation_1-rmse:3.95541\n",
            "[23]\tvalidation_0-rmse:2.10855\tvalidation_1-rmse:3.94485\n",
            "[24]\tvalidation_0-rmse:2.08874\tvalidation_1-rmse:3.93501\n",
            "[25]\tvalidation_0-rmse:2.06428\tvalidation_1-rmse:3.92302\n",
            "[26]\tvalidation_0-rmse:2.03584\tvalidation_1-rmse:3.90056\n",
            "[27]\tvalidation_0-rmse:2.01362\tvalidation_1-rmse:3.88734\n",
            "[28]\tvalidation_0-rmse:1.98884\tvalidation_1-rmse:3.86913\n",
            "[29]\tvalidation_0-rmse:1.97320\tvalidation_1-rmse:3.84905\n",
            "[30]\tvalidation_0-rmse:1.95219\tvalidation_1-rmse:3.83492\n",
            "[31]\tvalidation_0-rmse:1.93402\tvalidation_1-rmse:3.81128\n",
            "[32]\tvalidation_0-rmse:1.91335\tvalidation_1-rmse:3.80398\n",
            "[33]\tvalidation_0-rmse:1.89724\tvalidation_1-rmse:3.79344\n",
            "[34]\tvalidation_0-rmse:1.87883\tvalidation_1-rmse:3.77257\n",
            "[35]\tvalidation_0-rmse:1.86360\tvalidation_1-rmse:3.76385\n",
            "[36]\tvalidation_0-rmse:1.84500\tvalidation_1-rmse:3.76173\n",
            "[37]\tvalidation_0-rmse:1.83067\tvalidation_1-rmse:3.74783\n",
            "[38]\tvalidation_0-rmse:1.82008\tvalidation_1-rmse:3.74133\n",
            "[39]\tvalidation_0-rmse:1.80909\tvalidation_1-rmse:3.73467\n",
            "[40]\tvalidation_0-rmse:1.79828\tvalidation_1-rmse:3.72599\n",
            "[41]\tvalidation_0-rmse:1.78333\tvalidation_1-rmse:3.72493\n",
            "[42]\tvalidation_0-rmse:1.77199\tvalidation_1-rmse:3.72301\n",
            "[43]\tvalidation_0-rmse:1.76317\tvalidation_1-rmse:3.71517\n",
            "[44]\tvalidation_0-rmse:1.75227\tvalidation_1-rmse:3.69296\n",
            "[45]\tvalidation_0-rmse:1.73986\tvalidation_1-rmse:3.68938\n",
            "[46]\tvalidation_0-rmse:1.73128\tvalidation_1-rmse:3.68396\n",
            "[47]\tvalidation_0-rmse:1.72071\tvalidation_1-rmse:3.67824\n",
            "[48]\tvalidation_0-rmse:1.70948\tvalidation_1-rmse:3.67792\n",
            "[49]\tvalidation_0-rmse:1.70482\tvalidation_1-rmse:3.67752\n",
            "[50]\tvalidation_0-rmse:1.69334\tvalidation_1-rmse:3.67549\n",
            "[51]\tvalidation_0-rmse:1.68532\tvalidation_1-rmse:3.66976\n",
            "[52]\tvalidation_0-rmse:1.67361\tvalidation_1-rmse:3.66272\n",
            "[53]\tvalidation_0-rmse:1.66285\tvalidation_1-rmse:3.65206\n",
            "[54]\tvalidation_0-rmse:1.65447\tvalidation_1-rmse:3.64604\n",
            "[55]\tvalidation_0-rmse:1.64612\tvalidation_1-rmse:3.64557\n",
            "[56]\tvalidation_0-rmse:1.64125\tvalidation_1-rmse:3.63835\n",
            "[57]\tvalidation_0-rmse:1.63415\tvalidation_1-rmse:3.63241\n",
            "[58]\tvalidation_0-rmse:1.62730\tvalidation_1-rmse:3.62532\n",
            "[59]\tvalidation_0-rmse:1.62050\tvalidation_1-rmse:3.62371\n",
            "[60]\tvalidation_0-rmse:1.61009\tvalidation_1-rmse:3.61731\n",
            "[61]\tvalidation_0-rmse:1.60159\tvalidation_1-rmse:3.60340\n",
            "[62]\tvalidation_0-rmse:1.59499\tvalidation_1-rmse:3.59659\n",
            "[63]\tvalidation_0-rmse:1.58925\tvalidation_1-rmse:3.59279\n",
            "[64]\tvalidation_0-rmse:1.58487\tvalidation_1-rmse:3.59054\n",
            "[65]\tvalidation_0-rmse:1.58046\tvalidation_1-rmse:3.58874\n",
            "[66]\tvalidation_0-rmse:1.57569\tvalidation_1-rmse:3.58690\n",
            "[67]\tvalidation_0-rmse:1.56604\tvalidation_1-rmse:3.58405\n",
            "[68]\tvalidation_0-rmse:1.55780\tvalidation_1-rmse:3.57076\n",
            "[69]\tvalidation_0-rmse:1.55037\tvalidation_1-rmse:3.56915\n",
            "[70]\tvalidation_0-rmse:1.54494\tvalidation_1-rmse:3.56306\n",
            "[71]\tvalidation_0-rmse:1.53816\tvalidation_1-rmse:3.55923\n",
            "[72]\tvalidation_0-rmse:1.53289\tvalidation_1-rmse:3.55386\n",
            "[73]\tvalidation_0-rmse:1.52642\tvalidation_1-rmse:3.54842\n",
            "[74]\tvalidation_0-rmse:1.51964\tvalidation_1-rmse:3.54689\n",
            "[75]\tvalidation_0-rmse:1.51476\tvalidation_1-rmse:3.54569\n",
            "[76]\tvalidation_0-rmse:1.50867\tvalidation_1-rmse:3.54502\n",
            "[77]\tvalidation_0-rmse:1.50109\tvalidation_1-rmse:3.54268\n",
            "[78]\tvalidation_0-rmse:1.49399\tvalidation_1-rmse:3.53876\n",
            "[79]\tvalidation_0-rmse:1.48894\tvalidation_1-rmse:3.53599\n",
            "[80]\tvalidation_0-rmse:1.48266\tvalidation_1-rmse:3.53326\n",
            "[81]\tvalidation_0-rmse:1.47877\tvalidation_1-rmse:3.53142\n",
            "[82]\tvalidation_0-rmse:1.47263\tvalidation_1-rmse:3.52564\n",
            "[83]\tvalidation_0-rmse:1.46689\tvalidation_1-rmse:3.52410\n",
            "[84]\tvalidation_0-rmse:1.45850\tvalidation_1-rmse:3.51616\n",
            "[85]\tvalidation_0-rmse:1.45449\tvalidation_1-rmse:3.51306\n",
            "[86]\tvalidation_0-rmse:1.44940\tvalidation_1-rmse:3.50847\n",
            "[87]\tvalidation_0-rmse:1.44500\tvalidation_1-rmse:3.50140\n",
            "[88]\tvalidation_0-rmse:1.44113\tvalidation_1-rmse:3.49424\n",
            "[89]\tvalidation_0-rmse:1.43628\tvalidation_1-rmse:3.49348\n",
            "[90]\tvalidation_0-rmse:1.43315\tvalidation_1-rmse:3.49451\n",
            "[91]\tvalidation_0-rmse:1.43021\tvalidation_1-rmse:3.49268\n",
            "[92]\tvalidation_0-rmse:1.42408\tvalidation_1-rmse:3.49279\n",
            "[93]\tvalidation_0-rmse:1.41952\tvalidation_1-rmse:3.49800\n",
            "[94]\tvalidation_0-rmse:1.41477\tvalidation_1-rmse:3.49426\n",
            "[95]\tvalidation_0-rmse:1.41168\tvalidation_1-rmse:3.49081\n",
            "[96]\tvalidation_0-rmse:1.40948\tvalidation_1-rmse:3.49107\n",
            "[97]\tvalidation_0-rmse:1.40362\tvalidation_1-rmse:3.48783\n",
            "[98]\tvalidation_0-rmse:1.39862\tvalidation_1-rmse:3.48717\n",
            "[99]\tvalidation_0-rmse:1.39375\tvalidation_1-rmse:3.48480\n",
            "[100]\tvalidation_0-rmse:1.39050\tvalidation_1-rmse:3.47669\n",
            "[101]\tvalidation_0-rmse:1.38659\tvalidation_1-rmse:3.47190\n",
            "[102]\tvalidation_0-rmse:1.38412\tvalidation_1-rmse:3.47117\n",
            "[103]\tvalidation_0-rmse:1.38062\tvalidation_1-rmse:3.46991\n",
            "[104]\tvalidation_0-rmse:1.37775\tvalidation_1-rmse:3.47007\n",
            "[105]\tvalidation_0-rmse:1.37475\tvalidation_1-rmse:3.46899\n",
            "[106]\tvalidation_0-rmse:1.37206\tvalidation_1-rmse:3.46700\n",
            "[107]\tvalidation_0-rmse:1.36636\tvalidation_1-rmse:3.46236\n",
            "[108]\tvalidation_0-rmse:1.36316\tvalidation_1-rmse:3.46139\n",
            "[109]\tvalidation_0-rmse:1.36158\tvalidation_1-rmse:3.46034\n",
            "[110]\tvalidation_0-rmse:1.35748\tvalidation_1-rmse:3.45653\n",
            "[111]\tvalidation_0-rmse:1.35447\tvalidation_1-rmse:3.45465\n",
            "[112]\tvalidation_0-rmse:1.35202\tvalidation_1-rmse:3.45522\n",
            "[113]\tvalidation_0-rmse:1.34964\tvalidation_1-rmse:3.45492\n",
            "[114]\tvalidation_0-rmse:1.34456\tvalidation_1-rmse:3.45442\n",
            "[115]\tvalidation_0-rmse:1.34149\tvalidation_1-rmse:3.45563\n",
            "[116]\tvalidation_0-rmse:1.33780\tvalidation_1-rmse:3.45342\n",
            "[117]\tvalidation_0-rmse:1.33482\tvalidation_1-rmse:3.45100\n",
            "[118]\tvalidation_0-rmse:1.33102\tvalidation_1-rmse:3.43765\n",
            "[119]\tvalidation_0-rmse:1.32868\tvalidation_1-rmse:3.43649\n",
            "[120]\tvalidation_0-rmse:1.32501\tvalidation_1-rmse:3.43577\n",
            "[121]\tvalidation_0-rmse:1.32052\tvalidation_1-rmse:3.43515\n",
            "[122]\tvalidation_0-rmse:1.31524\tvalidation_1-rmse:3.43287\n",
            "[123]\tvalidation_0-rmse:1.31032\tvalidation_1-rmse:3.43059\n",
            "[124]\tvalidation_0-rmse:1.30669\tvalidation_1-rmse:3.43034\n",
            "[125]\tvalidation_0-rmse:1.30457\tvalidation_1-rmse:3.43012\n",
            "[126]\tvalidation_0-rmse:1.30103\tvalidation_1-rmse:3.42958\n",
            "[127]\tvalidation_0-rmse:1.29837\tvalidation_1-rmse:3.42758\n",
            "[128]\tvalidation_0-rmse:1.29459\tvalidation_1-rmse:3.42503\n",
            "[129]\tvalidation_0-rmse:1.29185\tvalidation_1-rmse:3.42238\n",
            "[130]\tvalidation_0-rmse:1.28989\tvalidation_1-rmse:3.42218\n",
            "[131]\tvalidation_0-rmse:1.28573\tvalidation_1-rmse:3.42141\n",
            "[132]\tvalidation_0-rmse:1.28381\tvalidation_1-rmse:3.41973\n",
            "[133]\tvalidation_0-rmse:1.28196\tvalidation_1-rmse:3.41680\n",
            "[134]\tvalidation_0-rmse:1.27841\tvalidation_1-rmse:3.42016\n",
            "[135]\tvalidation_0-rmse:1.27449\tvalidation_1-rmse:3.41877\n",
            "[136]\tvalidation_0-rmse:1.27181\tvalidation_1-rmse:3.41868\n",
            "[137]\tvalidation_0-rmse:1.26963\tvalidation_1-rmse:3.41804\n",
            "[138]\tvalidation_0-rmse:1.26598\tvalidation_1-rmse:3.41603\n",
            "[139]\tvalidation_0-rmse:1.26350\tvalidation_1-rmse:3.41455\n",
            "[140]\tvalidation_0-rmse:1.26181\tvalidation_1-rmse:3.41149\n",
            "[141]\tvalidation_0-rmse:1.26039\tvalidation_1-rmse:3.41179\n",
            "[142]\tvalidation_0-rmse:1.25754\tvalidation_1-rmse:3.40982\n",
            "[143]\tvalidation_0-rmse:1.25519\tvalidation_1-rmse:3.40963\n",
            "[144]\tvalidation_0-rmse:1.25147\tvalidation_1-rmse:3.40834\n",
            "[145]\tvalidation_0-rmse:1.24794\tvalidation_1-rmse:3.41163\n",
            "[146]\tvalidation_0-rmse:1.24609\tvalidation_1-rmse:3.41122\n",
            "[147]\tvalidation_0-rmse:1.24282\tvalidation_1-rmse:3.41218\n",
            "[148]\tvalidation_0-rmse:1.24022\tvalidation_1-rmse:3.41123\n",
            "[149]\tvalidation_0-rmse:1.23669\tvalidation_1-rmse:3.40929\n",
            "[150]\tvalidation_0-rmse:1.23397\tvalidation_1-rmse:3.40306\n",
            "[151]\tvalidation_0-rmse:1.23239\tvalidation_1-rmse:3.40248\n",
            "[152]\tvalidation_0-rmse:1.22937\tvalidation_1-rmse:3.40298\n",
            "[153]\tvalidation_0-rmse:1.22700\tvalidation_1-rmse:3.40228\n",
            "[154]\tvalidation_0-rmse:1.22505\tvalidation_1-rmse:3.40156\n",
            "[155]\tvalidation_0-rmse:1.22227\tvalidation_1-rmse:3.39846\n",
            "[156]\tvalidation_0-rmse:1.21961\tvalidation_1-rmse:3.39765\n",
            "[157]\tvalidation_0-rmse:1.21667\tvalidation_1-rmse:3.39538\n",
            "[158]\tvalidation_0-rmse:1.21462\tvalidation_1-rmse:3.39460\n",
            "[159]\tvalidation_0-rmse:1.21227\tvalidation_1-rmse:3.39265\n",
            "[160]\tvalidation_0-rmse:1.20931\tvalidation_1-rmse:3.39100\n",
            "[161]\tvalidation_0-rmse:1.20633\tvalidation_1-rmse:3.38925\n",
            "[162]\tvalidation_0-rmse:1.20473\tvalidation_1-rmse:3.39778\n",
            "[163]\tvalidation_0-rmse:1.20156\tvalidation_1-rmse:3.39512\n",
            "[164]\tvalidation_0-rmse:1.19964\tvalidation_1-rmse:3.39453\n",
            "[165]\tvalidation_0-rmse:1.19740\tvalidation_1-rmse:3.40523\n",
            "[166]\tvalidation_0-rmse:1.19527\tvalidation_1-rmse:3.40099\n",
            "[167]\tvalidation_0-rmse:1.19368\tvalidation_1-rmse:3.40032\n",
            "[168]\tvalidation_0-rmse:1.19253\tvalidation_1-rmse:3.39946\n",
            "[169]\tvalidation_0-rmse:1.18969\tvalidation_1-rmse:3.39911\n",
            "[170]\tvalidation_0-rmse:1.18753\tvalidation_1-rmse:3.39813\n",
            "[171]\tvalidation_0-rmse:1.18533\tvalidation_1-rmse:3.39905\n",
            "[172]\tvalidation_0-rmse:1.18301\tvalidation_1-rmse:3.39799\n",
            "[173]\tvalidation_0-rmse:1.18053\tvalidation_1-rmse:3.39640\n",
            "[174]\tvalidation_0-rmse:1.17776\tvalidation_1-rmse:3.39516\n",
            "[175]\tvalidation_0-rmse:1.17595\tvalidation_1-rmse:3.39443\n",
            "[176]\tvalidation_0-rmse:1.17373\tvalidation_1-rmse:3.39396\n",
            "[177]\tvalidation_0-rmse:1.17108\tvalidation_1-rmse:3.39537\n",
            "[178]\tvalidation_0-rmse:1.16986\tvalidation_1-rmse:3.39404\n",
            "[179]\tvalidation_0-rmse:1.16708\tvalidation_1-rmse:3.39171\n",
            "[180]\tvalidation_0-rmse:1.16522\tvalidation_1-rmse:3.39241\n",
            "[181]\tvalidation_0-rmse:1.16204\tvalidation_1-rmse:3.38899\n",
            "[182]\tvalidation_0-rmse:1.16012\tvalidation_1-rmse:3.38724\n",
            "[183]\tvalidation_0-rmse:1.15765\tvalidation_1-rmse:3.38568\n",
            "[184]\tvalidation_0-rmse:1.15607\tvalidation_1-rmse:3.38582\n",
            "[185]\tvalidation_0-rmse:1.15409\tvalidation_1-rmse:3.38465\n",
            "[186]\tvalidation_0-rmse:1.15144\tvalidation_1-rmse:3.38019\n",
            "[187]\tvalidation_0-rmse:1.14951\tvalidation_1-rmse:3.37925\n",
            "[188]\tvalidation_0-rmse:1.14840\tvalidation_1-rmse:3.37841\n",
            "[189]\tvalidation_0-rmse:1.14721\tvalidation_1-rmse:3.37862\n",
            "[190]\tvalidation_0-rmse:1.14563\tvalidation_1-rmse:3.37884\n",
            "[191]\tvalidation_0-rmse:1.14376\tvalidation_1-rmse:3.37783\n",
            "[192]\tvalidation_0-rmse:1.14165\tvalidation_1-rmse:3.37794\n",
            "[193]\tvalidation_0-rmse:1.13996\tvalidation_1-rmse:3.37793\n",
            "[194]\tvalidation_0-rmse:1.13760\tvalidation_1-rmse:3.37539\n",
            "[195]\tvalidation_0-rmse:1.13557\tvalidation_1-rmse:3.37547\n",
            "[196]\tvalidation_0-rmse:1.13405\tvalidation_1-rmse:3.37627\n",
            "[197]\tvalidation_0-rmse:1.13219\tvalidation_1-rmse:3.37559\n",
            "[198]\tvalidation_0-rmse:1.13006\tvalidation_1-rmse:3.37559\n",
            "[199]\tvalidation_0-rmse:1.12686\tvalidation_1-rmse:3.37294\n"
          ]
        },
        {
          "output_type": "execute_result",
          "data": {
            "text/plain": [
              "XGBRegressor(base_score=0.5, booster='gbtree', callbacks=None,\n",
              "             colsample_bylevel=1, colsample_bynode=1, colsample_bytree=1,\n",
              "             early_stopping_rounds=None, enable_categorical=False,\n",
              "             eval_metric=None, gamma=0, gpu_id=-1, grow_policy='depthwise',\n",
              "             importance_type=None, interaction_constraints='',\n",
              "             learning_rate=0.300000012, max_bin=256, max_cat_to_onehot=4,\n",
              "             max_delta_step=0, max_depth=5, max_leaves=0, min_child_weight=1,\n",
              "             missing=nan, monotone_constraints='()', n_estimators=200, n_jobs=0,\n",
              "             num_parallel_tree=1, predictor='auto', random_state=0, reg_alpha=0,\n",
              "             reg_lambda=1, ...)"
            ]
          },
          "metadata": {},
          "execution_count": 9
        }
      ]
    },
    {
      "cell_type": "code",
      "source": [
        "Y_hat_test = model.predict(X_valid)\n",
        "MSE = np.square(y_valid - Y_hat_test).mean()\n",
        "print('Test MSE:', MSE)"
      ],
      "metadata": {
        "id": "I0IJYgk1TwyD",
        "colab": {
          "base_uri": "https://localhost:8080/"
        },
        "outputId": "7063f71f-116b-4deb-a8b5-104692d77ccc"
      },
      "execution_count": null,
      "outputs": [
        {
          "output_type": "stream",
          "name": "stdout",
          "text": [
            "Test MSE: 11.376756\n"
          ]
        }
      ]
    },
    {
      "cell_type": "markdown",
      "source": [
        "#Thí nghiệm về thời gian chạy trên số lượng output khác nhau"
      ],
      "metadata": {
        "id": "A7qIi4b-0eHI"
      }
    },
    {
      "cell_type": "markdown",
      "source": [
        "## TabNet"
      ],
      "metadata": {
        "id": "QZcNSWxi77MY"
      }
    },
    {
      "cell_type": "code",
      "source": [
        "train_data = loadmat('sarcos_inv.mat')['sarcos_inv'].astype(np.float32)\n",
        "val_data, train_data = train_data[:4448], train_data[4484:].astype(np.float32)\n",
        "test_data = loadmat('sarcos_inv_test.mat')['sarcos_inv_test'].astype(np.float32)"
      ],
      "metadata": {
        "id": "gKolu53p5ucB"
      },
      "execution_count": null,
      "outputs": []
    },
    {
      "cell_type": "code",
      "source": [
        "X_train = {}\n",
        "Y_train = {}\n",
        "X_val = {}\n",
        "Y_val = {}\n",
        "X_test = {}\n",
        "Y_test = {}"
      ],
      "metadata": {
        "id": "5DCYXR9a57PJ"
      },
      "execution_count": null,
      "outputs": []
    },
    {
      "cell_type": "code",
      "source": [
        "X_train[1], Y_train[1] = train_data[:, :21], train_data[:, 21]\n",
        "X_val[1], Y_val[1] = val_data[:, :21], val_data[:, 21]\n",
        "X_test[1], Y_test[1] = test_data[:, :21], test_data[:, 21]"
      ],
      "metadata": {
        "id": "cYB4M2jt58ly"
      },
      "execution_count": null,
      "outputs": []
    },
    {
      "cell_type": "code",
      "source": [
        "X_train[3], Y_train[3] = train_data[:, :21], train_data[:, 21:24]\n",
        "X_val[3], Y_val[3] = val_data[:, :21], val_data[:, 21:24]\n",
        "X_test[3], Y_test[3] = test_data[:, :21], test_data[:, 21:24]"
      ],
      "metadata": {
        "id": "5Jc2uaKQwDTw"
      },
      "execution_count": null,
      "outputs": []
    },
    {
      "cell_type": "code",
      "source": [
        "X_train[5], Y_train[5] = train_data[:, :21], train_data[:, 21:26]\n",
        "X_val[5], Y_val[5] = val_data[:, :21], val_data[:, 21:26]\n",
        "X_test[5], Y_test[5] = test_data[:, :21], test_data[:, 21:26]"
      ],
      "metadata": {
        "id": "OD9C8TzqzTw7"
      },
      "execution_count": null,
      "outputs": []
    },
    {
      "cell_type": "code",
      "source": [
        "X_train[7], Y_train[7] = train_data[:, :21], train_data[:, 21:]\n",
        "X_val[7], Y_val[7] = val_data[:, :21], val_data[:, 21:]\n",
        "X_test[7], Y_test[7] = test_data[:, :21], test_data[:, 21:]"
      ],
      "metadata": {
        "id": "abRlGkIGDjg0"
      },
      "execution_count": null,
      "outputs": []
    },
    {
      "cell_type": "code",
      "source": [
        "clf = TabNetRegressor(n_d=128, n_a=128, n_steps=5,\n",
        "    gamma=1.5, n_ind=2, n_shared=2,\n",
        "    cat_idxs=[],\n",
        "    cat_dims=[],\n",
        "    cat_emb_dim=[],\n",
        "    lambda_sparse=1e-4, momentum=0.8,\n",
        "    optimizer_fn=torch.optim.Adam,\n",
        "    optimizer_params=dict(lr=2e-2),\n",
        "    scheduler_params = {\"gamma\": 0.9,\n",
        "                     \"step_size\": 400},\n",
        "    scheduler_fn=torch.optim.lr_scheduler.StepLR, epsilon=1e-15\n",
        "    )"
      ],
      "metadata": {
        "colab": {
          "base_uri": "https://localhost:8080/"
        },
        "id": "6xnrnwVdJvWt",
        "outputId": "fd22a5a8-6376-462e-9148-5971d1822951"
      },
      "execution_count": null,
      "outputs": [
        {
          "output_type": "stream",
          "name": "stderr",
          "text": [
            "/content/Thesis/Code/abstract_model.py:74: UserWarning: Device used : cuda\n",
            "  warnings.warn(f\"Device used : {self.device}\")\n"
          ]
        }
      ]
    },
    {
      "cell_type": "code",
      "source": [
        "clf.fit(\n",
        "    X_train=X_train[1], y_train=Y_train[1].reshape(-1,1),\n",
        "    eval_set=[(X_train[1], Y_train[1].reshape(-1,1)), (X_val[1], Y_val[1].reshape(-1,1))],\n",
        "    eval_name=['train', 'test'],\n",
        "    eval_metric=['mse'],\n",
        "    max_epochs=70,\n",
        "    patience= 70,\n",
        "    batch_size=4096, vbs=128,\n",
        "    num_workers=0,\n",
        "    drop_last=False\n",
        ") "
      ],
      "metadata": {
        "id": "Eyc4IGhQJxVd"
      },
      "execution_count": null,
      "outputs": []
    },
    {
      "cell_type": "code",
      "source": [
        "clf.fit(\n",
        "    X_train=X_train[3], y_train=Y_train[3],\n",
        "    eval_set=[(X_train[3], Y_train[3]), (X_val[3], Y_val[3])],\n",
        "    eval_name=['train', 'test'],\n",
        "    eval_metric=['mse'],\n",
        "    max_epochs=70,\n",
        "    patience= 70,\n",
        "    batch_size=4096, vbs=128,\n",
        "    num_workers=0,\n",
        "    drop_last=False\n",
        ") "
      ],
      "metadata": {
        "id": "6XgCKvGd68g3"
      },
      "execution_count": null,
      "outputs": []
    },
    {
      "cell_type": "code",
      "source": [
        "clf.fit(\n",
        "    X_train=X_train[5], y_train=Y_train[5],\n",
        "    eval_set=[(X_train[5], Y_train[5]), (X_val[5], Y_val[5])],\n",
        "    eval_name=['train', 'test'],\n",
        "    eval_metric=['mse'],\n",
        "    max_epochs=70,\n",
        "    patience= 70,\n",
        "    batch_size=4096, vbs=128,\n",
        "    num_workers=0,\n",
        "    drop_last=False\n",
        ") "
      ],
      "metadata": {
        "id": "CplKWkilLF-T"
      },
      "execution_count": null,
      "outputs": []
    },
    {
      "cell_type": "code",
      "source": [
        "clf.fit(\n",
        "    X_train=X_train[7], y_train=Y_train[7],\n",
        "    eval_set=[(X_train[7], Y_train[7]), (X_val[7], Y_val[7])],\n",
        "    eval_name=['train', 'test'],\n",
        "    eval_metric=['mse'],\n",
        "    max_epochs=70,\n",
        "    patience= 70,\n",
        "    batch_size=4096, vbs=128,\n",
        "    num_workers=0,\n",
        "    drop_last=False\n",
        ") "
      ],
      "metadata": {
        "id": "reLdg_pJ675b"
      },
      "execution_count": null,
      "outputs": []
    },
    {
      "cell_type": "markdown",
      "source": [
        "##XGBoost"
      ],
      "metadata": {
        "id": "OdyMZuWF7-A4"
      }
    },
    {
      "cell_type": "code",
      "source": [
        "!pip uninstall xgboost"
      ],
      "metadata": {
        "colab": {
          "base_uri": "https://localhost:8080/"
        },
        "id": "__GJfyMsEbID",
        "outputId": "d20e6bfb-80de-4969-bd5c-208b092c27c2"
      },
      "execution_count": null,
      "outputs": [
        {
          "output_type": "stream",
          "name": "stdout",
          "text": [
            "Found existing installation: xgboost 0.90\n",
            "Uninstalling xgboost-0.90:\n",
            "  Would remove:\n",
            "    /usr/local/lib/python3.7/dist-packages/xgboost-0.90.dist-info/*\n",
            "    /usr/local/lib/python3.7/dist-packages/xgboost/*\n",
            "    /usr/local/xgboost/libxgboost.so\n",
            "Proceed (y/n)? y\n",
            "  Successfully uninstalled xgboost-0.90\n"
          ]
        }
      ]
    },
    {
      "cell_type": "code",
      "source": [
        "!pip install xgboost==1.6.1"
      ],
      "metadata": {
        "colab": {
          "base_uri": "https://localhost:8080/"
        },
        "id": "TGXaPk1SEc2k",
        "outputId": "3c6b0a2d-b232-4285-d852-4f32ce8597b6"
      },
      "execution_count": null,
      "outputs": [
        {
          "output_type": "stream",
          "name": "stdout",
          "text": [
            "Looking in indexes: https://pypi.org/simple, https://us-python.pkg.dev/colab-wheels/public/simple/\n",
            "Collecting xgboost==1.6.1\n",
            "  Downloading xgboost-1.6.1-py3-none-manylinux2014_x86_64.whl (192.9 MB)\n",
            "\u001b[K     |████████████████████████████████| 192.9 MB 56 kB/s \n",
            "\u001b[?25hRequirement already satisfied: numpy in /usr/local/lib/python3.7/dist-packages (from xgboost==1.6.1) (1.21.6)\n",
            "Requirement already satisfied: scipy in /usr/local/lib/python3.7/dist-packages (from xgboost==1.6.1) (1.4.1)\n",
            "Installing collected packages: xgboost\n",
            "Successfully installed xgboost-1.6.1\n"
          ]
        }
      ]
    },
    {
      "cell_type": "code",
      "source": [
        "from xgboost import XGBRegressor\n",
        "model = XGBRegressor(n_estimators = 200, max_depth = 5, objective = 'reg:squarederror')"
      ],
      "metadata": {
        "id": "z0-x3B3mEet1"
      },
      "execution_count": null,
      "outputs": []
    },
    {
      "cell_type": "code",
      "source": [
        "model.fit(\n",
        "    X_train[1], Y_train[1],\n",
        "    eval_set=[(X_train[1], Y_train[1]), (X_val[1], Y_val[1])],\n",
        "    eval_metric = 'rmse'\n",
        ")"
      ],
      "metadata": {
        "id": "cST3iPi0EhVE"
      },
      "execution_count": null,
      "outputs": []
    },
    {
      "cell_type": "code",
      "source": [
        "model.fit(\n",
        "    X_train[3], Y_train[3],\n",
        "    eval_set=[(X_train[3], Y_train[3]), (X_val[3], Y_val[3])],\n",
        "    eval_metric = 'rmse'\n",
        ")"
      ],
      "metadata": {
        "id": "R2oV-JHZFl3C"
      },
      "execution_count": null,
      "outputs": []
    },
    {
      "cell_type": "code",
      "source": [
        "model.fit(\n",
        "    X_train[5], Y_train[5],\n",
        "    eval_set=[(X_train[5], Y_train[5]), (X_val[5], Y_val[5])],\n",
        "    eval_metric = 'rmse'\n",
        ")"
      ],
      "metadata": {
        "id": "xuPMZNFhGHWT"
      },
      "execution_count": null,
      "outputs": []
    },
    {
      "cell_type": "code",
      "source": [
        "model.fit(\n",
        "    X_train[7], Y_train[7],\n",
        "    eval_set=[(X_train[7], Y_train[7]), (X_val[7], Y_val[7])],\n",
        "    eval_metric = 'rmse'\n",
        ")"
      ],
      "metadata": {
        "id": "BBTnxM5vHB0o"
      },
      "execution_count": null,
      "outputs": []
    }
  ],
  "metadata": {
    "colab": {
      "collapsed_sections": [],
      "name": "Sarcos.ipynb",
      "provenance": [],
      "toc_visible": true
    },
    "kernelspec": {
      "display_name": "Python 3",
      "name": "python3"
    },
    "language_info": {
      "name": "python"
    },
    "gpuClass": "standard"
  },
  "nbformat": 4,
  "nbformat_minor": 0
}